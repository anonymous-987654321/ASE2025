{
 "cells": [
  {
   "cell_type": "code",
   "execution_count": 42,
   "metadata": {},
   "outputs": [],
   "source": [
    "import os\n",
    "import pandas as pd\n",
    "import subprocess\n",
    "import re"
   ]
  },
  {
   "cell_type": "code",
   "execution_count": 32,
   "metadata": {},
   "outputs": [],
   "source": [
    "project_names = ['bmcsoftware_vscode-ispw', 'IBM_example-health-apis',\n",
    "       'debinix_openjensen', 'Martinfx_Cobol',\n",
    "       'shamrice_COBOL-RSS-Reader', 'shamrice_COBOL-Roguelike',\n",
    "       'shamrice_COBOL-Guest-Book-Webapp', 'ibmdbbdev_Samples',\n",
    "       'brazilofmux_gnucobol',\n",
    "       'cicsdev_cics-async-api-credit-card-application-example',\n",
    "       'cicsdev_cics-async-api-redbooks', 'walmartlabs_zECS',\n",
    "       'cicsdev_cics-banking-sample-application-cbsa',\n",
    "       'cicsdev_cics-genapp']"
   ]
  },
  {
   "cell_type": "code",
   "execution_count": 41,
   "metadata": {},
   "outputs": [
    {
     "data": {
      "text/plain": [
       "'/home/16jl93/code_summary/replication-package/scripts/../projects'"
      ]
     },
     "execution_count": 41,
     "metadata": {},
     "output_type": "execute_result"
    }
   ],
   "source": [
    "data_dir = os.path.join(os.getcwd(),'..', 'projects')\n",
    "repo_clean_dir = os.path.join(os.getcwd(),'..', 'project_clean')\n",
    "data_dir"
   ]
  },
  {
   "cell_type": "markdown",
   "metadata": {},
   "source": [
    "### get all cbl files from all projects"
   ]
  },
  {
   "cell_type": "code",
   "execution_count": null,
   "metadata": {},
   "outputs": [],
   "source": [
    "result = subprocess.run([\"find\", data_dir, \"-type\", \"f\", \"-name\", \"*.cbl\"], capture_output=True, text=True, check=True)\n",
    "file_paths = result.stdout.splitlines()\n",
    "file_paths"
   ]
  },
  {
   "cell_type": "markdown",
   "metadata": {},
   "source": [
    "### copy COBOL files in /projects and seperate multiprograms, remove comments and empty lines, write to /project_clean"
   ]
  },
  {
   "cell_type": "code",
   "execution_count": 43,
   "metadata": {},
   "outputs": [],
   "source": [
    "# Function to detect the length of the numeric prefix\n",
    "def detect_number_length(s):\n",
    "    match = re.match(r'^\\d+', s)\n",
    "    if match:\n",
    "        return len(match.group())\n",
    "    return 0\n",
    "\n",
    "# Function to check if all strings start with a number of the detected length\n",
    "def all_start_with_detected_length_number(strings):\n",
    "    # Find the first string with a numeric prefix to detect the length\n",
    "    number_length = 0\n",
    "    for string in strings:\n",
    "        number_length = detect_number_length(string)\n",
    "        if number_length > 0:\n",
    "            break\n",
    "\n",
    "    if number_length == 0:\n",
    "        return False\n",
    "\n",
    "    # Define the regular expression to match a number of the detected length at the beginning of the string\n",
    "    pattern = re.compile(rf'^\\d{{{number_length}}}')\n",
    "\n",
    "    # Check if all strings that start with a number have the detected length\n",
    "    return all(pattern.match(string) or not re.match(r'^\\d+', string) for string in strings)\n",
    "\n",
    "\n",
    "def replace_numeric_edges_with_space(s):\n",
    "    #if not s.startswith(' ') and not s.startswith('*'):\n",
    "    if not s.startswith('*'):\n",
    "        # Replace numeric string at the beginning with corresponding spaces\n",
    "        s = re.sub(r'^\\d+', lambda match: ' ' * len(match.group()), s)\n",
    "        # Replace numeric string at the end with corresponding spaces\n",
    "        s = re.sub(r'\\d+$', lambda match: ' ' * len(match.group()), s)\n",
    "    return s\n",
    "\n",
    "def read_cobol_list(file_path):\n",
    "    data = []\n",
    "    try:\n",
    "        with open(file_path, 'r', errors='ignore') as file:\n",
    "            for line in file:\n",
    "                data.append(line)\n",
    "    except UnicodeDecodeError:\n",
    "        with open(file_path, 'r', encoding='latin-1') as file:\n",
    "            for line in file:\n",
    "                data.append(line)\n",
    "    if all(len(s) == len(data[1]) for s in data[1:-1]) or all_start_with_detected_length_number(data[1:-1]):\n",
    "        data = [replace_numeric_edges_with_space(item) for item in data]\n",
    "    data = [item for item in data if not item.strip('\\n').strip()=='']\n",
    "    return data\n",
    "\n",
    "def read_cobol_no_comment_lst(file_path):\n",
    "    lst = read_cobol_list(file_path)\n",
    "    lst = [item for item in lst if not item.strip().startswith('*') and not item.startswith('      D ')]\n",
    "    for i, line in enumerate(lst):\n",
    "        if '*>' in line:\n",
    "            idx = line.index('*>')\n",
    "            lst[i] = line[:idx]+'\\n'\n",
    "    return lst"
   ]
  },
  {
   "cell_type": "code",
   "execution_count": 37,
   "metadata": {},
   "outputs": [],
   "source": [
    "def extract_program(program_id, all_lines, programs_dict):\n",
    "    if not 'end' in programs_dict[program_id]:\n",
    "        print(f'ERROR! Program {program_id} is not ended')\n",
    "        return None\n",
    "    start, end = programs_dict[program_id]['start'],programs_dict[program_id]['end']\n",
    "    nested = []\n",
    "    lines = [i for i in all_lines]\n",
    "    for pid in programs_dict:\n",
    "        if programs_dict[pid]['start'] > start and programs_dict[pid]['end'] < end:\n",
    "            nested.append(pid)\n",
    "            if 'identification division' in lines[programs_dict[pid]['start']-1].lower():\n",
    "                lines[programs_dict[pid]['start']-1:programs_dict[pid]['end']+1] = ' '*(programs_dict[pid]['end']-programs_dict[pid]['start']+2)\n",
    "            else:\n",
    "                lines[programs_dict[pid]['start']:programs_dict[pid]['end']+1] = ' '*(programs_dict[pid]['end']-programs_dict[pid]['start']+1)\n",
    "    extracted = lines[start-1:end+1] if 'identification division' in lines[start-1].lower() else lines[start:end+1]\n",
    "    extracted = [item for item in extracted if not item == ' ']\n",
    "    return extracted  \n",
    "\n",
    "def get_programs(lines):\n",
    "    programs = {}\n",
    "    for i,line in enumerate(lines):\n",
    "        if 'program-id.' in line.lower().strip()[:11]:\n",
    "            program_id = line.strip().split()[-1].strip('.').strip(\"'\")\n",
    "            programs[program_id] = {'start':i}\n",
    "        elif 'end program' in line.lower().strip()[:11]:\n",
    "            program_id = line.strip().split()[-1].strip('.').strip(\"'\")\n",
    "            if program_id in programs:\n",
    "                programs[program_id]['end'] = i\n",
    "            else:\n",
    "                print(f'ERROR! program {program_id} start not found')\n",
    "        elif 'function-id.' in line.lower().strip()[:12]:\n",
    "            program_id = line.strip().split()[-1].strip('.').strip(\"'\")\n",
    "            programs[program_id] = {'start':i}\n",
    "        elif 'end function' in line.lower().strip()[:12]:\n",
    "            program_id = line.strip().split()[-1].strip('.').strip(\"'\")\n",
    "            if program_id in programs:\n",
    "                programs[program_id]['end'] = i\n",
    "            else:\n",
    "                print(f'ERROR! function {program_id} start not found')\n",
    "    if len(programs) <=1:\n",
    "        return None\n",
    "    # elif len(programs) == 1 and not 'end' in programs[list(programs.keys())[0]]:\n",
    "    #     return None\n",
    "    else:\n",
    "        return [extract_program(idx, lines, programs) for idx in programs]"
   ]
  },
  {
   "cell_type": "code",
   "execution_count": null,
   "metadata": {},
   "outputs": [],
   "source": [
    "multi_program_file = []\n",
    "seperated = []\n",
    "for file_path in file_paths:\n",
    "    file_lst = read_cobol_no_comment_lst(file_path)\n",
    "    programs = get_programs(file_lst)\n",
    "    new_folder_dir = os.path.join(repo_clean_dir, file_path.split('/')[-2])\n",
    "    new_file_dir = os.path.join(new_folder_dir, file_path.split('/')[-1])\n",
    "    \n",
    "    # if more than 1 program in the file\n",
    "    if programs:\n",
    "        print(f\"{file_path} has {len(programs)} programs \")\n",
    "        multi_program_file.append(file_path)\n",
    "        for i, program in enumerate(programs):\n",
    "            program_dir = new_file_dir.replace('.cbl',f'_program_{i}.cbl')\n",
    "            if not os.path.exists(new_folder_dir):\n",
    "                os.makedirs(new_folder_dir)\n",
    "            with open(program_dir, 'w') as file:\n",
    "                file.writelines(program)\n",
    "            seperated.append(program_dir)\n",
    "    else:\n",
    "        if not os.path.exists(new_folder_dir):\n",
    "            os.makedirs(new_folder_dir)\n",
    "        with open(new_file_dir, 'w') as file:\n",
    "            file.writelines(file_lst)\n",
    "        pass"
   ]
  },
  {
   "cell_type": "code",
   "execution_count": 54,
   "metadata": {},
   "outputs": [
    {
     "data": {
      "text/plain": [
       "['/home/16jl93/code_summary/replication-package/scripts/../projects/shamrice_COBOL-RSS-Reader/string_helpers.cbl',\n",
       " '/home/16jl93/code_summary/replication-package/scripts/../projects/shamrice_COBOL-RSS-Reader/application_configurator.cbl',\n",
       " '/home/16jl93/code_summary/replication-package/scripts/../projects/shamrice_COBOL-Guest-Book-Webapp/web-helpers.cbl',\n",
       " '/home/16jl93/code_summary/replication-package/scripts/../projects/brazilofmux_gnucobol/clinkages.cbl',\n",
       " '/home/16jl93/code_summary/replication-package/scripts/../projects/brazilofmux_gnucobol/linear_to_fielded.cbl',\n",
       " '/home/16jl93/code_summary/replication-package/scripts/../projects/brazilofmux_gnucobol/holidays.cbl',\n",
       " '/home/16jl93/code_summary/replication-package/scripts/../projects/brazilofmux_gnucobol/fielded_to_linear.cbl',\n",
       " '/home/16jl93/code_summary/replication-package/scripts/../projects/ibmdbbdev_Samples/epscsmrd.cbl',\n",
       " '/home/16jl93/code_summary/replication-package/scripts/../projects/Martinfx_Cobol/Hello_SQLITE.cbl']"
      ]
     },
     "execution_count": 54,
     "metadata": {},
     "output_type": "execute_result"
    }
   ],
   "source": [
    "multi_program_file"
   ]
  }
 ],
 "metadata": {
  "kernelspec": {
   "display_name": "base",
   "language": "python",
   "name": "python3"
  },
  "language_info": {
   "codemirror_mode": {
    "name": "ipython",
    "version": 3
   },
   "file_extension": ".py",
   "mimetype": "text/x-python",
   "name": "python",
   "nbconvert_exporter": "python",
   "pygments_lexer": "ipython3",
   "version": "3.10.11"
  }
 },
 "nbformat": 4,
 "nbformat_minor": 2
}
