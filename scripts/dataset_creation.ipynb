{
 "cells": [
  {
   "cell_type": "code",
   "execution_count": 1,
   "metadata": {},
   "outputs": [],
   "source": [
    "import os\n",
    "import torch\n",
    "import numpy as np\n",
    "import glob\n",
    "import pandas as pd"
   ]
  },
  {
   "cell_type": "code",
   "execution_count": 2,
   "metadata": {},
   "outputs": [],
   "source": [
    "project_names = ['bmcsoftware_vscode-ispw', 'IBM_example-health-apis',\n",
    "       'debinix_openjensen', 'Martinfx_Cobol',\n",
    "       'shamrice_COBOL-RSS-Reader', 'shamrice_COBOL-Roguelike',\n",
    "       'shamrice_COBOL-Guest-Book-Webapp', 'ibmdbbdev_Samples',\n",
    "       'brazilofmux_gnucobol',\n",
    "       'cicsdev_cics-async-api-credit-card-application-example',\n",
    "       'cicsdev_cics-async-api-redbooks', 'walmartlabs_zECS',\n",
    "       'cicsdev_cics-banking-sample-application-cbsa',\n",
    "       'cicsdev_cics-genapp']"
   ]
  },
  {
   "cell_type": "markdown",
   "metadata": {},
   "source": [
    "### copy files in dataset and seperate multiprograms, remove comments and empty lines"
   ]
  },
  {
   "cell_type": "code",
   "execution_count": null,
   "metadata": {},
   "outputs": [],
   "source": []
  }
 ],
 "metadata": {
  "kernelspec": {
   "display_name": "base",
   "language": "python",
   "name": "python3"
  },
  "language_info": {
   "codemirror_mode": {
    "name": "ipython",
    "version": 3
   },
   "file_extension": ".py",
   "mimetype": "text/x-python",
   "name": "python",
   "nbconvert_exporter": "python",
   "pygments_lexer": "ipython3",
   "version": "3.10.11"
  }
 },
 "nbformat": 4,
 "nbformat_minor": 2
}
